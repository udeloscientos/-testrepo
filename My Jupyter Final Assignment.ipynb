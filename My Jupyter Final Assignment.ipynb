{
 "cells": [
  {
   "cell_type": "markdown",
   "id": "4a9ca157-038a-4bea-8d65-2d55448c3d56",
   "metadata": {
    "tags": []
   },
   "source": [
    "# MY Jupyter Notebook on IBM Watson Studio"
   ]
  },
  {
   "cell_type": "markdown",
   "id": "fa196ce3-189f-43e9-92bb-ee1e4d0a8e1e",
   "metadata": {},
   "source": [
    "__URIELLA DELOS CIENTOS__ \n",
    "<br>\n",
    "Project Manager"
   ]
  },
  {
   "cell_type": "markdown",
   "id": "2339dca8-5666-4d0a-b580-71b42ebaedc0",
   "metadata": {},
   "source": [
    "_I am interested in data science because I am a naturally curious person who loves to analyze relationships between objects._"
   ]
  },
  {
   "cell_type": "markdown",
   "id": "cf18a350-87d5-48d2-bc6f-cd3307466f38",
   "metadata": {},
   "source": [
    "### My code in Cell 5 is supposed to add 2 numbers."
   ]
  },
  {
   "cell_type": "code",
   "execution_count": 1,
   "id": "3f94eca4-30bd-4c34-b20b-24c910666da5",
   "metadata": {},
   "outputs": [
    {
     "name": "stdout",
     "output_type": "stream",
     "text": [
      "13\n"
     ]
    }
   ],
   "source": [
    "three = 3\n",
    "ten = 10\n",
    "print(three+ten)"
   ]
  },
  {
   "cell_type": "markdown",
   "id": "71ce52ef-8c10-426c-90ad-6bbd54df84e9",
   "metadata": {},
   "source": [
    "-  Bullet1\n",
    "-  Bullet2\n",
    "-  Bullet3\n",
    "1. List 1\n",
    "2. List 2\n",
    "3. List 3\n",
    "| Column 1 | Column 2| Column 3 |\n",
    "| -------- | -------- | -------- |\n",
    "| Cell  | Cell  | Cell |\n",
    "| Cell  | Cell  | Cell |\n",
    "| Cell  | Cell  | Cell |"
   ]
  },
  {
   "cell_type": "code",
   "execution_count": null,
   "id": "fe4c8284-3d79-44fc-ad23-8ba20a4e5b33",
   "metadata": {},
   "outputs": [],
   "source": []
  }
 ],
 "metadata": {
  "kernelspec": {
   "display_name": "Python",
   "language": "python",
   "name": "conda-env-python-py"
  },
  "language_info": {
   "codemirror_mode": {
    "name": "ipython",
    "version": 3
   },
   "file_extension": ".py",
   "mimetype": "text/x-python",
   "name": "python",
   "nbconvert_exporter": "python",
   "pygments_lexer": "ipython3",
   "version": "3.7.12"
  }
 },
 "nbformat": 4,
 "nbformat_minor": 5
}
